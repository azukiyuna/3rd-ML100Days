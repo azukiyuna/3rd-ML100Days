{
 "cells": [
  {
   "cell_type": "markdown",
   "metadata": {},
   "source": [
    "## 作業\n",
    "1. 請用 numpy 建立一個 10 x 10, 數值分布自 -1.0 ~ 1.0 的矩陣並繪製 Heatmap\n",
    "2. 請用 numpy 建立一個 1000 x 3, 數值分布為 -1.0 ~ 1.0 的矩陣，並繪製 PairPlot (上半部為 scatter, 對角線為 hist, 下半部為 density)\n",
    "3. 請用 numpy 建立一個 1000 x 3, 數值分布為常態分佈的矩陣，並繪製 PairPlot (上半部為 scatter, 對角線為 hist, 下半部為 density)"
   ]
  },
  {
   "cell_type": "markdown",
   "metadata": {
    "collapsed": true
   },
   "source": [
    "# [作業目標]\n",
    "- 試著設定隨機資料, 並依照範例練習基礎與進階的 Heatmap"
   ]
  },
  {
   "cell_type": "markdown",
   "metadata": {
    "collapsed": true
   },
   "source": [
    "# [作業重點]\n",
    "- 如題1.條件隨機矩陣, 並仿造基礎 Heatmap 範例作圖   \n",
    "(In[2], OUT[2]) (Hint : numpy.random.random - 均勻分布, 隨機小數)\n",
    "- 如題2.3.條件隨機數值列, 並仿造進階 Heatmap 範例作圖  \n",
    "(In[3], OUT[3], In[4], OUT[4]) (Hint : numpy.random.randn - 常態分布)"
   ]
  },
  {
   "cell_type": "code",
   "execution_count": 1,
   "metadata": {},
   "outputs": [],
   "source": [
    "# 載入需要的套件\n",
    "import os\n",
    "import numpy as np\n",
    "import pandas as pd\n",
    "import matplotlib.pyplot as plt\n",
    "import seaborn as sns # 另一個繪圖-樣式套件\n",
    "plt.style.use('ggplot')\n",
    "\n",
    "# 忽略警告訊息\n",
    "%matplotlib inline\n",
    "import warnings\n",
    "warnings.filterwarnings('ignore')"
   ]
  },
  {
   "cell_type": "code",
   "execution_count": 2,
   "metadata": {},
   "outputs": [
    {
     "name": "stdout",
     "output_type": "stream",
     "text": [
      "[[ 0.73782333 -0.02327101  0.67630384  0.93408258 -0.76056441  0.81882436\n",
      "  -0.17647755 -0.2081619   0.73477101 -0.05799051]\n",
      " [ 0.38900773 -0.15146712 -0.21361418  0.43237024  0.19507805  0.31318064\n",
      "   0.81319223 -0.73400401 -0.38512596 -0.76475478]\n",
      " [-0.57479134 -0.85397935  0.47010869 -0.11699977  0.99564956 -0.03947535\n",
      "   0.18210114  0.17900891  0.40717604 -0.85783579]\n",
      " [-0.32554382 -0.44940048  0.51948996  0.3098781   0.82915872 -0.30199187\n",
      "  -0.19944791  0.04731424  0.7365081  -0.56060979]\n",
      " [-0.85610646  0.32521119 -0.16876697 -0.70206333 -0.42817653 -0.98629468\n",
      "  -0.82554455 -0.96803676 -0.70225272 -0.5995536 ]\n",
      " [ 0.55561952  0.17491568  0.00581398  0.12433143  0.3303983   0.74342705\n",
      "  -0.5767922   0.14364857  0.21177921 -0.86457853]\n",
      " [-0.1042837  -0.05988805  0.23541975 -0.63865296 -0.56703996 -0.57997552\n",
      "  -0.39357334 -0.28778396  0.70042975  0.75893274]\n",
      " [ 0.43633054 -0.84364524 -0.49795148  0.13804914 -0.17333539  0.83733309\n",
      "   0.22740589 -0.79249002  0.63595356 -0.27874007]\n",
      " [-0.58581784  0.15073884 -0.93264434 -0.11112311 -0.85399489  0.64783062\n",
      "  -0.56721309  0.12374829 -0.67443063 -0.23487637]\n",
      " [-0.41308831  0.50124824 -0.76243103  0.56871889 -0.73854444 -0.12770317\n",
      "  -0.49657139  0.45049347  0.41320792 -0.27075807]]\n"
     ]
    },
    {
     "data": {
      "image/png": "[encoded data removed]",
      "text/plain": [
       "<Figure size 720x720 with 2 Axes>"
      ]
     },
     "metadata": {
      "needs_background": "light"
     },
     "output_type": "display_data"
    }
   ],
   "source": [
    "\"\"\"\n",
    "Your Code Here\n",
    "\"\"\"\n",
    "nrow = 10\n",
    "ncol = 10\n",
    "matrix = -1 + 2*np.random.random((nrow,ncol))\n",
    "print(matrix)\n",
    "plt.figure(figsize=(10,10))\n",
    "\"\"\"\n",
    "Your Code Here\n",
    "\"\"\"\n",
    "heatmap = sns.heatmap(matrix)\n",
    "plt.show()"
   ]
  },
  {
   "cell_type": "code",
   "execution_count": 3,
   "metadata": {},
   "outputs": [
    {
     "name": "stdout",
     "output_type": "stream",
     "text": [
      "[[ 0.99776774 -0.33618155  0.04001909]\n",
      " [-0.73225058 -0.62081309  0.60145653]\n",
      " [-0.98533861  0.53617191 -0.42515184]\n",
      " ...\n",
      " [ 0.22176917 -0.73684635  0.6755313 ]\n",
      " [ 0.90127428 -0.25796607 -0.79251757]\n",
      " [-0.42180828  0.10934081 -0.18653349]]\n"
     ]
    }
   ],
   "source": [
    "nrow = 1000\n",
    "ncol = 3\n",
    "matrix = -1 + 2*np.random.random((nrow,ncol))\n",
    "print(matrix)"
   ]
  },
  {
   "cell_type": "code",
   "execution_count": null,
   "metadata": {
    "collapsed": true
   },
   "outputs": [],
   "source": [
    "nrow = 1000\n",
    "ncol = 3\n",
    "\"\"\"\n",
    "Your Code Here\n",
    "\"\"\"\n",
    "matrix = -1 + 2*np.random.random((nrow,ncol))\n",
    "print(matrix)\n",
    "\n",
    "# 隨機給予 0, 1, 2 三種標籤\n",
    "indice = np.random.choice([0,1,2], size=nrow)\n",
    "plot_data = pd.DataFrame(matrix, indice).reset_index()\n",
    "\n",
    "# 繪製 seborn 進階 Heatmap\n",
    "grid = sns.PairGrid(data = plot_data, size = 3, diag_sharey=False, \n",
    "                    hue = 'index', vars = [x for x in list(plot_data.columns) if x != 'index'])\n",
    "\"\"\"\n",
    "Your Code Here\n",
    "Please replace \"...\" to correct plot function\n",
    "\"\"\"\n",
    "grid.map_upper(... , alpha = 0.2)\n",
    "grid.map_diag(... )\n",
    "grid.map_lower(... , cmap = plt.cm.OrRd_r)\n",
    "\n",
    "plt.show()"
   ]
  },
  {
   "cell_type": "code",
   "execution_count": null,
   "metadata": {
    "collapsed": true
   },
   "outputs": [],
   "source": [
    "nrow = 1000\n",
    "ncol = 3\n",
    "\"\"\"\n",
    "Your Code Here\n",
    "\"\"\"\n",
    "matrix = \n",
    "\n",
    "# 隨機給予 0, 1, 2 三種標籤\n",
    "indice = np.random.choice([0,1,2], size=nrow)\n",
    "plot_data = pd.DataFrame(matrix, indice).reset_index()\n",
    "\n",
    "# 繪製 seborn 進階 Heatmap\n",
    "grid = sns.PairGrid(data = plot_data, size = 3, diag_sharey=False,\n",
    "                    hue = 'index', vars = [x for x in list(plot_data.columns) if x != 'index'])\n",
    "\"\"\"\n",
    "Your Code Here\n",
    "Please replace \"...\" to correct plot function\n",
    "\"\"\"\n",
    "grid.map_upper(... , alpha = 0.2)\n",
    "grid.map_diag(... )\n",
    "grid.map_lower(... , cmap = plt.cm.OrRd_r)\n",
    "\n",
    "plt.show()"
   ]
  },
  {
   "cell_type": "code",
   "execution_count": null,
   "metadata": {
    "collapsed": true
   },
   "outputs": [],
   "source": []
  }
 ],
 "metadata": {
  "anaconda-cloud": {},
  "kernelspec": {
   "display_name": "Python 3",
   "language": "python",
   "name": "python3"
  },
  "language_info": {
   "codemirror_mode": {
    "name": "ipython",
    "version": 3
   },
   "file_extension": ".py",
   "mimetype": "text/x-python",
   "name": "python",
   "nbconvert_exporter": "python",
   "pygments_lexer": "ipython3",
   "version": "3.7.0"
  }
 },
 "nbformat": 4,
 "nbformat_minor": 1
}
