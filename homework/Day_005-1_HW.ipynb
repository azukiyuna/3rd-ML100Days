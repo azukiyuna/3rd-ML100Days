{
 "cells": [
  {
   "cell_type": "markdown",
   "metadata": {},
   "source": [
    "# [作業目標]\n",
    "- 利用範例的創建方式, 創建一組資料, 並練習如何取出最大值"
   ]
  },
  {
   "cell_type": "markdown",
   "metadata": {},
   "source": [
    "# [作業重點]\n",
    "- 練習創立 DataFrame (In[2])\n",
    "- 如何取出口數最多的國家 (In[3], Out[3])"
   ]
  },
  {
   "cell_type": "markdown",
   "metadata": {},
   "source": [
    "## 練習時間\n",
    "在小量的資料上，我們用眼睛就可以看得出來程式碼是否有跑出我們理想中的結果\n",
    "\n",
    "請嘗試想像一個你需要的資料結構 (裡面的值可以是隨機的)，然後用上述的方法把它變成 pandas DataFrame\n",
    "\n",
    "#### Ex: 想像一個 dataframe 有兩個欄位，一個是國家，一個是人口，求人口數最多的國家\n",
    "\n",
    "### Hints: [隨機產生數值](https://blog.csdn.net/christianashannon/article/details/78867204)"
   ]
  },
  {
   "cell_type": "code",
   "execution_count": 1,
   "metadata": {},
   "outputs": [],
   "source": [
    "import pandas as pd\n",
    "import numpy as np"
   ]
  },
  {
   "cell_type": "code",
   "execution_count": 2,
   "metadata": {},
   "outputs": [
    {
     "name": "stdout",
     "output_type": "stream",
     "text": [
      "         Country  Population\n",
      "0         Taiwan    98603707\n",
      "1  United States    75496334\n",
      "2        Tailand     7846654\n",
      "3          Korea    71887285\n",
      "4          Japan    71184273\n",
      "5          Spain    42502063\n",
      "6    New Zealand    72488633\n"
     ]
    }
   ],
   "source": [
    "data = {'Country':['Taiwan','United States','Tailand','Korea','Japan','Spain','New Zealand'] ,\n",
    "        'Population': np.random.randint(1,100000000,size=7) }\n",
    "df = pd.DataFrame(data)\n",
    "print(df)"
   ]
  },
  {
   "cell_type": "code",
   "execution_count": 3,
   "metadata": {},
   "outputs": [
    {
     "name": "stdout",
     "output_type": "stream",
     "text": [
      "The most populous country: Taiwan\n"
     ]
    }
   ],
   "source": [
    "Country_Most = df['Country'].iloc[df['Population'].idxmax()]\n",
    "print('The most populous country:',Country_Most)\n",
    "\n",
    "# df.idxmax(axis=0, skipna=True): 預設 axis=0,表示以row找最大值並回傳最大值的index\n",
    "# df.iloc: index locate 用index索引位置進行定位\n",
    "# 利用df['Population'].idxmax()比較人口欄位, 得到人口最多的index\n",
    "# 再利用df['Country'].iloc代入這index去找對應國家欄位"
   ]
  },
  {
   "cell_type": "markdown",
   "metadata": {},
   "source": [
    "### 寫法2:"
   ]
  },
  {
   "cell_type": "code",
   "execution_count": 4,
   "metadata": {
    "scrolled": true
   },
   "outputs": [
    {
     "name": "stdout",
     "output_type": "stream",
     "text": [
      "The most populous country: Taiwan\n"
     ]
    }
   ],
   "source": [
    "Country_Most2 = df.loc[(df['Population'].idxmax()),'Country']\n",
    "print('The most populous country:',Country_Most2)\n",
    "# df.loc: 使用column名和index名進行定位"
   ]
  },
  {
   "cell_type": "code",
   "execution_count": null,
   "metadata": {},
   "outputs": [],
   "source": []
  }
 ],
 "metadata": {
  "kernelspec": {
   "display_name": "Python 3",
   "language": "python",
   "name": "python3"
  },
  "language_info": {
   "codemirror_mode": {
    "name": "ipython",
    "version": 3
   },
   "file_extension": ".py",
   "mimetype": "text/x-python",
   "name": "python",
   "nbconvert_exporter": "python",
   "pygments_lexer": "ipython3",
   "version": "3.7.0"
  }
 },
 "nbformat": 4,
 "nbformat_minor": 2
}
